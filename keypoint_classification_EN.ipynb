{
 "cells": [
  {
   "cell_type": "code",
   "execution_count": 16,
   "metadata": {
    "id": "igMyGnjE9hEp"
   },
   "outputs": [],
   "source": [
    "import csv\n",
    "\n",
    "import numpy as np\n",
    "import tensorflow as tf\n",
    "from sklearn.model_selection import train_test_split\n",
    "\n",
    "RANDOM_SEED = 42"
   ]
  },
  {
   "cell_type": "markdown",
   "metadata": {
    "id": "t2HDvhIu9hEr"
   },
   "source": [
    "# Specify each path"
   ]
  },
  {
   "cell_type": "code",
   "execution_count": 17,
   "metadata": {
    "id": "9NvZP2Zn9hEy"
   },
   "outputs": [],
   "source": [
    "dataset = 'model/keypoint_classifier/keypoint.csv'\n",
    "model_save_path = 'model/keypoint_classifier/keypoint_classifier.hdf5'\n",
    "tflite_save_path = 'model/keypoint_classifier/keypoint_classifier.tflite'"
   ]
  },
  {
   "cell_type": "markdown",
   "metadata": {
    "id": "s5oMH7x19hEz"
   },
   "source": [
    "# Set number of classes"
   ]
  },
  {
   "cell_type": "code",
   "execution_count": 18,
   "metadata": {
    "id": "du4kodXL9hEz"
   },
   "outputs": [],
   "source": [
    "NUM_CLASSES = 5"
   ]
  },
  {
   "cell_type": "markdown",
   "metadata": {
    "id": "XjnL0uso9hEz"
   },
   "source": [
    "# Dataset reading"
   ]
  },
  {
   "cell_type": "code",
   "execution_count": 19,
   "metadata": {
    "id": "QT5ZqtEz9hE0"
   },
   "outputs": [],
   "source": [
    "X_dataset = np.loadtxt(dataset, delimiter=',', dtype='float32', usecols=list(range(1, (21 * 2) + 1)))"
   ]
  },
  {
   "cell_type": "code",
   "execution_count": 20,
   "metadata": {
    "id": "QmoKFsp49hE0"
   },
   "outputs": [],
   "source": [
    "y_dataset = np.loadtxt(dataset, delimiter=',', dtype='int32', usecols=(0))"
   ]
  },
  {
   "cell_type": "code",
   "execution_count": 21,
   "metadata": {
    "id": "xQU7JTZ_9hE0"
   },
   "outputs": [],
   "source": [
    "X_train, X_test, y_train, y_test = train_test_split(X_dataset, y_dataset, train_size=0.75, random_state=RANDOM_SEED)"
   ]
  },
  {
   "cell_type": "markdown",
   "metadata": {
    "id": "mxK_lETT9hE0"
   },
   "source": [
    "# Model building"
   ]
  },
  {
   "cell_type": "code",
   "execution_count": 22,
   "metadata": {
    "id": "vHBmUf1t9hE1"
   },
   "outputs": [],
   "source": [
    "model = tf.keras.models.Sequential([\n",
    "    tf.keras.layers.Input((21 * 2, )),\n",
    "    tf.keras.layers.Dropout(0.2),\n",
    "    tf.keras.layers.Dense(20, activation='relu'),\n",
    "    tf.keras.layers.Dropout(0.4),\n",
    "    tf.keras.layers.Dense(10, activation='relu'),\n",
    "    tf.keras.layers.Dense(NUM_CLASSES, activation='softmax')\n",
    "])"
   ]
  },
  {
   "cell_type": "code",
   "execution_count": 23,
   "metadata": {
    "colab": {
     "base_uri": "https://localhost:8080/"
    },
    "id": "ypqky9tc9hE1",
    "outputId": "5db082bb-30e3-4110-bf63-a1ee777ecd46"
   },
   "outputs": [
    {
     "name": "stdout",
     "output_type": "stream",
     "text": [
      "Model: \"sequential_1\"\n",
      "_________________________________________________________________\n",
      " Layer (type)                Output Shape              Param #   \n",
      "=================================================================\n",
      " dropout_2 (Dropout)         (None, 42)                0         \n",
      "                                                                 \n",
      " dense_3 (Dense)             (None, 20)                860       \n",
      "                                                                 \n",
      " dropout_3 (Dropout)         (None, 20)                0         \n",
      "                                                                 \n",
      " dense_4 (Dense)             (None, 10)                210       \n",
      "                                                                 \n",
      " dense_5 (Dense)             (None, 5)                 55        \n",
      "                                                                 \n",
      "=================================================================\n",
      "Total params: 1125 (4.39 KB)\n",
      "Trainable params: 1125 (4.39 KB)\n",
      "Non-trainable params: 0 (0.00 Byte)\n",
      "_________________________________________________________________\n"
     ]
    }
   ],
   "source": [
    "model.summary()  # tf.keras.utils.plot_model(model, show_shapes=True)"
   ]
  },
  {
   "cell_type": "code",
   "execution_count": 24,
   "metadata": {
    "id": "MbMjOflQ9hE1"
   },
   "outputs": [],
   "source": [
    "# Model checkpoint callback\n",
    "cp_callback = tf.keras.callbacks.ModelCheckpoint(\n",
    "    model_save_path, verbose=1, save_weights_only=False)\n",
    "# Callback for early stopping\n",
    "es_callback = tf.keras.callbacks.EarlyStopping(patience=20, verbose=1)"
   ]
  },
  {
   "cell_type": "code",
   "execution_count": 25,
   "metadata": {
    "id": "c3Dac0M_9hE2"
   },
   "outputs": [],
   "source": [
    "# Model compilation\n",
    "model.compile(\n",
    "    optimizer='adam',\n",
    "    loss='sparse_categorical_crossentropy',\n",
    "    metrics=['accuracy']\n",
    ")"
   ]
  },
  {
   "cell_type": "markdown",
   "metadata": {
    "id": "7XI0j1Iu9hE2"
   },
   "source": [
    "# Model training"
   ]
  },
  {
   "cell_type": "code",
   "execution_count": 26,
   "metadata": {
    "colab": {
     "base_uri": "https://localhost:8080/"
    },
    "id": "WirBl-JE9hE3",
    "outputId": "71b30ca2-8294-4d9d-8aa2-800d90d399de",
    "scrolled": true
   },
   "outputs": [
    {
     "name": "stdout",
     "output_type": "stream",
     "text": [
      "Epoch 1/1000\n",
      "21/30 [====================>.........] - ETA: 0s - loss: 1.5355 - accuracy: 0.2824 \n",
      "Epoch 1: saving model to model/keypoint_classifier\\keypoint_classifier.hdf5\n",
      "30/30 [==============================] - 1s 10ms/step - loss: 1.5180 - accuracy: 0.2923 - val_loss: 1.4115 - val_accuracy: 0.3317\n",
      "Epoch 2/1000\n",
      " 1/30 [>.............................] - ETA: 0s - loss: 1.4782 - accuracy: 0.2812\n",
      "Epoch 2: saving model to model/keypoint_classifier\\keypoint_classifier.hdf5\n",
      "30/30 [==============================] - 0s 4ms/step - loss: 1.3963 - accuracy: 0.3568 - val_loss: 1.2935 - val_accuracy: 0.4836\n",
      "Epoch 3/1000\n",
      "23/30 [======================>.......] - ETA: 0s - loss: 1.3098 - accuracy: 0.4161\n",
      "Epoch 3: saving model to model/keypoint_classifier\\keypoint_classifier.hdf5\n",
      "30/30 [==============================] - 0s 5ms/step - loss: 1.3053 - accuracy: 0.4159 - val_loss: 1.1783 - val_accuracy: 0.5795\n",
      "Epoch 4/1000\n",
      "21/30 [====================>.........] - ETA: 0s - loss: 1.2424 - accuracy: 0.4494\n",
      "Epoch 4: saving model to model/keypoint_classifier\\keypoint_classifier.hdf5\n",
      "30/30 [==============================] - 0s 4ms/step - loss: 1.2392 - accuracy: 0.4543 - val_loss: 1.0906 - val_accuracy: 0.6651\n",
      "Epoch 5/1000\n",
      "30/30 [==============================] - ETA: 0s - loss: 1.1983 - accuracy: 0.4732\n",
      "Epoch 5: saving model to model/keypoint_classifier\\keypoint_classifier.hdf5\n",
      "30/30 [==============================] - 0s 4ms/step - loss: 1.1983 - accuracy: 0.4732 - val_loss: 1.0230 - val_accuracy: 0.6483\n",
      "Epoch 6/1000\n",
      " 1/30 [>.............................] - ETA: 0s - loss: 1.1993 - accuracy: 0.4375\n",
      "Epoch 6: saving model to model/keypoint_classifier\\keypoint_classifier.hdf5\n",
      "30/30 [==============================] - 0s 4ms/step - loss: 1.1417 - accuracy: 0.5068 - val_loss: 0.9609 - val_accuracy: 0.6403\n",
      "Epoch 7/1000\n",
      "24/30 [=======================>......] - ETA: 0s - loss: 1.0911 - accuracy: 0.5290\n",
      "Epoch 7: saving model to model/keypoint_classifier\\keypoint_classifier.hdf5\n",
      "30/30 [==============================] - 0s 6ms/step - loss: 1.0910 - accuracy: 0.5313 - val_loss: 0.8924 - val_accuracy: 0.6731\n",
      "Epoch 8/1000\n",
      "27/30 [==========================>...] - ETA: 0s - loss: 1.0765 - accuracy: 0.5480\n",
      "Epoch 8: saving model to model/keypoint_classifier\\keypoint_classifier.hdf5\n",
      "30/30 [==============================] - 0s 4ms/step - loss: 1.0773 - accuracy: 0.5478 - val_loss: 0.8431 - val_accuracy: 0.7162\n",
      "Epoch 9/1000\n",
      "28/30 [===========================>..] - ETA: 0s - loss: 1.0394 - accuracy: 0.5656\n",
      "Epoch 9: saving model to model/keypoint_classifier\\keypoint_classifier.hdf5\n",
      "30/30 [==============================] - 0s 4ms/step - loss: 1.0358 - accuracy: 0.5646 - val_loss: 0.8002 - val_accuracy: 0.7466\n",
      "Epoch 10/1000\n",
      " 1/30 [>.............................] - ETA: 0s - loss: 0.9473 - accuracy: 0.5625\n",
      "Epoch 10: saving model to model/keypoint_classifier\\keypoint_classifier.hdf5\n",
      "30/30 [==============================] - 0s 3ms/step - loss: 0.9809 - accuracy: 0.5849 - val_loss: 0.7557 - val_accuracy: 0.7554\n",
      "Epoch 11/1000\n",
      " 1/30 [>.............................] - ETA: 0s - loss: 1.0635 - accuracy: 0.5078\n",
      "Epoch 11: saving model to model/keypoint_classifier\\keypoint_classifier.hdf5\n",
      "30/30 [==============================] - 0s 4ms/step - loss: 0.9820 - accuracy: 0.5929 - val_loss: 0.7228 - val_accuracy: 0.8161\n",
      "Epoch 12/1000\n",
      "26/30 [=========================>....] - ETA: 0s - loss: 0.9494 - accuracy: 0.6046\n",
      "Epoch 12: saving model to model/keypoint_classifier\\keypoint_classifier.hdf5\n",
      "30/30 [==============================] - 0s 5ms/step - loss: 0.9491 - accuracy: 0.6043 - val_loss: 0.6905 - val_accuracy: 0.8305\n",
      "Epoch 13/1000\n",
      "28/30 [===========================>..] - ETA: 0s - loss: 0.9370 - accuracy: 0.6130\n",
      "Epoch 13: saving model to model/keypoint_classifier\\keypoint_classifier.hdf5\n",
      "30/30 [==============================] - 0s 4ms/step - loss: 0.9359 - accuracy: 0.6136 - val_loss: 0.6621 - val_accuracy: 0.8513\n",
      "Epoch 14/1000\n",
      " 1/30 [>.............................] - ETA: 0s - loss: 0.9147 - accuracy: 0.6094\n",
      "Epoch 14: saving model to model/keypoint_classifier\\keypoint_classifier.hdf5\n",
      "30/30 [==============================] - 0s 3ms/step - loss: 0.9021 - accuracy: 0.6246 - val_loss: 0.6400 - val_accuracy: 0.8441\n",
      "Epoch 15/1000\n",
      " 1/30 [>.............................] - ETA: 0s - loss: 0.9884 - accuracy: 0.6172\n",
      "Epoch 15: saving model to model/keypoint_classifier\\keypoint_classifier.hdf5\n",
      "30/30 [==============================] - 0s 3ms/step - loss: 0.8898 - accuracy: 0.6294 - val_loss: 0.6101 - val_accuracy: 0.8593\n",
      "Epoch 16/1000\n",
      " 1/30 [>.............................] - ETA: 0s - loss: 0.9320 - accuracy: 0.6094\n",
      "Epoch 16: saving model to model/keypoint_classifier\\keypoint_classifier.hdf5\n",
      "30/30 [==============================] - 0s 3ms/step - loss: 0.8798 - accuracy: 0.6350 - val_loss: 0.5889 - val_accuracy: 0.8673\n",
      "Epoch 17/1000\n",
      " 1/30 [>.............................] - ETA: 0s - loss: 0.9207 - accuracy: 0.5781\n",
      "Epoch 17: saving model to model/keypoint_classifier\\keypoint_classifier.hdf5\n",
      "30/30 [==============================] - 0s 4ms/step - loss: 0.8592 - accuracy: 0.6424 - val_loss: 0.5767 - val_accuracy: 0.8721\n",
      "Epoch 18/1000\n",
      "30/30 [==============================] - ETA: 0s - loss: 0.8585 - accuracy: 0.6382\n",
      "Epoch 18: saving model to model/keypoint_classifier\\keypoint_classifier.hdf5\n",
      "30/30 [==============================] - 0s 4ms/step - loss: 0.8585 - accuracy: 0.6382 - val_loss: 0.5685 - val_accuracy: 0.8753\n",
      "Epoch 19/1000\n",
      "30/30 [==============================] - ETA: 0s - loss: 0.8419 - accuracy: 0.6517\n",
      "Epoch 19: saving model to model/keypoint_classifier\\keypoint_classifier.hdf5\n",
      "30/30 [==============================] - 0s 4ms/step - loss: 0.8419 - accuracy: 0.6517 - val_loss: 0.5487 - val_accuracy: 0.8873\n",
      "Epoch 20/1000\n",
      "23/30 [======================>.......] - ETA: 0s - loss: 0.8374 - accuracy: 0.6495\n",
      "Epoch 20: saving model to model/keypoint_classifier\\keypoint_classifier.hdf5\n",
      "30/30 [==============================] - 0s 5ms/step - loss: 0.8355 - accuracy: 0.6485 - val_loss: 0.5391 - val_accuracy: 0.8873\n",
      "Epoch 21/1000\n",
      "27/30 [==========================>...] - ETA: 0s - loss: 0.8176 - accuracy: 0.6684\n",
      "Epoch 21: saving model to model/keypoint_classifier\\keypoint_classifier.hdf5\n",
      "30/30 [==============================] - 0s 4ms/step - loss: 0.8130 - accuracy: 0.6701 - val_loss: 0.5283 - val_accuracy: 0.8921\n",
      "Epoch 22/1000\n",
      " 1/30 [>.............................] - ETA: 0s - loss: 0.8046 - accuracy: 0.6875\n",
      "Epoch 22: saving model to model/keypoint_classifier\\keypoint_classifier.hdf5\n",
      "30/30 [==============================] - 0s 4ms/step - loss: 0.8083 - accuracy: 0.6715 - val_loss: 0.5125 - val_accuracy: 0.8961\n",
      "Epoch 23/1000\n",
      " 1/30 [>.............................] - ETA: 0s - loss: 0.7678 - accuracy: 0.7031\n",
      "Epoch 23: saving model to model/keypoint_classifier\\keypoint_classifier.hdf5\n",
      "30/30 [==============================] - 0s 4ms/step - loss: 0.7879 - accuracy: 0.6800 - val_loss: 0.4928 - val_accuracy: 0.8969\n",
      "Epoch 24/1000\n",
      "26/30 [=========================>....] - ETA: 0s - loss: 0.7807 - accuracy: 0.6854\n",
      "Epoch 24: saving model to model/keypoint_classifier\\keypoint_classifier.hdf5\n",
      "30/30 [==============================] - 0s 5ms/step - loss: 0.7833 - accuracy: 0.6837 - val_loss: 0.4854 - val_accuracy: 0.8921\n",
      "Epoch 25/1000\n",
      "27/30 [==========================>...] - ETA: 0s - loss: 0.7760 - accuracy: 0.6921\n",
      "Epoch 25: saving model to model/keypoint_classifier\\keypoint_classifier.hdf5\n",
      "30/30 [==============================] - 0s 4ms/step - loss: 0.7775 - accuracy: 0.6882 - val_loss: 0.4662 - val_accuracy: 0.8905\n",
      "Epoch 26/1000\n",
      "28/30 [===========================>..] - ETA: 0s - loss: 0.7613 - accuracy: 0.6847\n",
      "Epoch 26: saving model to model/keypoint_classifier\\keypoint_classifier.hdf5\n",
      "30/30 [==============================] - 0s 4ms/step - loss: 0.7573 - accuracy: 0.6859 - val_loss: 0.4670 - val_accuracy: 0.8913\n",
      "Epoch 27/1000\n",
      " 1/30 [>.............................] - ETA: 0s - loss: 0.7500 - accuracy: 0.6797\n",
      "Epoch 27: saving model to model/keypoint_classifier\\keypoint_classifier.hdf5\n",
      "30/30 [==============================] - 0s 4ms/step - loss: 0.7642 - accuracy: 0.6851 - val_loss: 0.4567 - val_accuracy: 0.8969\n",
      "Epoch 28/1000\n",
      "27/30 [==========================>...] - ETA: 0s - loss: 0.7703 - accuracy: 0.6924\n",
      "Epoch 28: saving model to model/keypoint_classifier\\keypoint_classifier.hdf5\n",
      "30/30 [==============================] - 0s 4ms/step - loss: 0.7693 - accuracy: 0.6928 - val_loss: 0.4542 - val_accuracy: 0.8945\n",
      "Epoch 29/1000\n",
      "11/30 [==========>...................] - ETA: 0s - loss: 0.7338 - accuracy: 0.7109\n",
      "Epoch 29: saving model to model/keypoint_classifier\\keypoint_classifier.hdf5\n",
      "30/30 [==============================] - 0s 5ms/step - loss: 0.7377 - accuracy: 0.7085 - val_loss: 0.4395 - val_accuracy: 0.8985\n",
      "Epoch 30/1000\n",
      "26/30 [=========================>....] - ETA: 0s - loss: 0.7275 - accuracy: 0.7112\n",
      "Epoch 30: saving model to model/keypoint_classifier\\keypoint_classifier.hdf5\n",
      "30/30 [==============================] - 0s 4ms/step - loss: 0.7270 - accuracy: 0.7120 - val_loss: 0.4343 - val_accuracy: 0.8977\n",
      "Epoch 31/1000\n",
      "28/30 [===========================>..] - ETA: 0s - loss: 0.7133 - accuracy: 0.7213\n",
      "Epoch 31: saving model to model/keypoint_classifier\\keypoint_classifier.hdf5\n",
      "30/30 [==============================] - 0s 4ms/step - loss: 0.7151 - accuracy: 0.7192 - val_loss: 0.4216 - val_accuracy: 0.9057\n",
      "Epoch 32/1000\n",
      "27/30 [==========================>...] - ETA: 0s - loss: 0.7273 - accuracy: 0.7083\n",
      "Epoch 32: saving model to model/keypoint_classifier\\keypoint_classifier.hdf5\n",
      "30/30 [==============================] - 0s 4ms/step - loss: 0.7241 - accuracy: 0.7120 - val_loss: 0.4186 - val_accuracy: 0.9009\n",
      "Epoch 33/1000\n",
      " 1/30 [>.............................] - ETA: 0s - loss: 0.7985 - accuracy: 0.6172\n",
      "Epoch 33: saving model to model/keypoint_classifier\\keypoint_classifier.hdf5\n",
      "30/30 [==============================] - 0s 3ms/step - loss: 0.7404 - accuracy: 0.6965 - val_loss: 0.4110 - val_accuracy: 0.9137\n",
      "Epoch 34/1000\n",
      "30/30 [==============================] - ETA: 0s - loss: 0.7084 - accuracy: 0.7205\n",
      "Epoch 34: saving model to model/keypoint_classifier\\keypoint_classifier.hdf5\n",
      "30/30 [==============================] - 0s 4ms/step - loss: 0.7084 - accuracy: 0.7205 - val_loss: 0.4139 - val_accuracy: 0.9129\n",
      "Epoch 35/1000\n",
      "26/30 [=========================>....] - ETA: 0s - loss: 0.7028 - accuracy: 0.7112\n",
      "Epoch 35: saving model to model/keypoint_classifier\\keypoint_classifier.hdf5\n",
      "30/30 [==============================] - 0s 4ms/step - loss: 0.7058 - accuracy: 0.7120 - val_loss: 0.3982 - val_accuracy: 0.9073\n",
      "Epoch 36/1000\n",
      "27/30 [==========================>...] - ETA: 0s - loss: 0.6937 - accuracy: 0.7231\n",
      "Epoch 36: saving model to model/keypoint_classifier\\keypoint_classifier.hdf5\n",
      "30/30 [==============================] - 0s 4ms/step - loss: 0.6937 - accuracy: 0.7242 - val_loss: 0.3881 - val_accuracy: 0.9169\n",
      "Epoch 37/1000\n",
      "29/30 [============================>.] - ETA: 0s - loss: 0.6969 - accuracy: 0.7182\n",
      "Epoch 37: saving model to model/keypoint_classifier\\keypoint_classifier.hdf5\n",
      "30/30 [==============================] - 0s 4ms/step - loss: 0.6954 - accuracy: 0.7192 - val_loss: 0.3910 - val_accuracy: 0.9209\n",
      "Epoch 38/1000\n",
      "26/30 [=========================>....] - ETA: 0s - loss: 0.6856 - accuracy: 0.7281\n",
      "Epoch 38: saving model to model/keypoint_classifier\\keypoint_classifier.hdf5\n",
      "30/30 [==============================] - 0s 4ms/step - loss: 0.6824 - accuracy: 0.7293 - val_loss: 0.3848 - val_accuracy: 0.9105\n",
      "Epoch 39/1000\n",
      "28/30 [===========================>..] - ETA: 0s - loss: 0.6902 - accuracy: 0.7207\n",
      "Epoch 39: saving model to model/keypoint_classifier\\keypoint_classifier.hdf5\n",
      "30/30 [==============================] - 0s 4ms/step - loss: 0.6892 - accuracy: 0.7216 - val_loss: 0.3860 - val_accuracy: 0.9145\n",
      "Epoch 40/1000\n",
      "26/30 [=========================>....] - ETA: 0s - loss: 0.6702 - accuracy: 0.7455\n",
      "Epoch 40: saving model to model/keypoint_classifier\\keypoint_classifier.hdf5\n",
      "30/30 [==============================] - 0s 5ms/step - loss: 0.6739 - accuracy: 0.7415 - val_loss: 0.3717 - val_accuracy: 0.9161\n",
      "Epoch 41/1000\n",
      "24/30 [=======================>......] - ETA: 0s - loss: 0.6614 - accuracy: 0.7340\n",
      "Epoch 41: saving model to model/keypoint_classifier\\keypoint_classifier.hdf5\n",
      "30/30 [==============================] - 0s 5ms/step - loss: 0.6636 - accuracy: 0.7319 - val_loss: 0.3623 - val_accuracy: 0.9289\n",
      "Epoch 42/1000\n",
      "13/30 [============>.................] - ETA: 0s - loss: 0.6653 - accuracy: 0.7452\n",
      "Epoch 42: saving model to model/keypoint_classifier\\keypoint_classifier.hdf5\n",
      "30/30 [==============================] - 0s 6ms/step - loss: 0.6797 - accuracy: 0.7373 - val_loss: 0.3649 - val_accuracy: 0.9297\n",
      "Epoch 43/1000\n",
      "22/30 [=====================>........] - ETA: 0s - loss: 0.6793 - accuracy: 0.7365\n",
      "Epoch 43: saving model to model/keypoint_classifier\\keypoint_classifier.hdf5\n",
      "30/30 [==============================] - 0s 6ms/step - loss: 0.6721 - accuracy: 0.7397 - val_loss: 0.3637 - val_accuracy: 0.9265\n",
      "Epoch 44/1000\n",
      "19/30 [==================>...........] - ETA: 0s - loss: 0.6729 - accuracy: 0.7336\n",
      "Epoch 44: saving model to model/keypoint_classifier\\keypoint_classifier.hdf5\n",
      "30/30 [==============================] - 0s 6ms/step - loss: 0.6740 - accuracy: 0.7389 - val_loss: 0.3607 - val_accuracy: 0.9305\n",
      "Epoch 45/1000\n",
      "23/30 [======================>.......] - ETA: 0s - loss: 0.6520 - accuracy: 0.7493\n",
      "Epoch 45: saving model to model/keypoint_classifier\\keypoint_classifier.hdf5\n",
      "30/30 [==============================] - 0s 5ms/step - loss: 0.6567 - accuracy: 0.7442 - val_loss: 0.3497 - val_accuracy: 0.9297\n",
      "Epoch 46/1000\n",
      "23/30 [======================>.......] - ETA: 0s - loss: 0.6690 - accuracy: 0.7378\n",
      "Epoch 46: saving model to model/keypoint_classifier\\keypoint_classifier.hdf5\n",
      "30/30 [==============================] - 0s 6ms/step - loss: 0.6618 - accuracy: 0.7397 - val_loss: 0.3526 - val_accuracy: 0.9321\n",
      "Epoch 47/1000\n",
      "19/30 [==================>...........] - ETA: 0s - loss: 0.6667 - accuracy: 0.7492\n",
      "Epoch 47: saving model to model/keypoint_classifier\\keypoint_classifier.hdf5\n",
      "30/30 [==============================] - 0s 5ms/step - loss: 0.6585 - accuracy: 0.7525 - val_loss: 0.3466 - val_accuracy: 0.9369\n",
      "Epoch 48/1000\n",
      "26/30 [=========================>....] - ETA: 0s - loss: 0.6527 - accuracy: 0.7476\n",
      "Epoch 48: saving model to model/keypoint_classifier\\keypoint_classifier.hdf5\n",
      "30/30 [==============================] - 0s 5ms/step - loss: 0.6569 - accuracy: 0.7474 - val_loss: 0.3446 - val_accuracy: 0.9313\n",
      "Epoch 49/1000\n",
      "25/30 [========================>.....] - ETA: 0s - loss: 0.6455 - accuracy: 0.7462\n",
      "Epoch 49: saving model to model/keypoint_classifier\\keypoint_classifier.hdf5\n",
      "30/30 [==============================] - 0s 5ms/step - loss: 0.6497 - accuracy: 0.7439 - val_loss: 0.3378 - val_accuracy: 0.9424\n",
      "Epoch 50/1000\n",
      "26/30 [=========================>....] - ETA: 0s - loss: 0.6408 - accuracy: 0.7536\n",
      "Epoch 50: saving model to model/keypoint_classifier\\keypoint_classifier.hdf5\n",
      "30/30 [==============================] - 0s 5ms/step - loss: 0.6319 - accuracy: 0.7565 - val_loss: 0.3323 - val_accuracy: 0.9369\n",
      "Epoch 51/1000\n",
      "25/30 [========================>.....] - ETA: 0s - loss: 0.6148 - accuracy: 0.7591\n",
      "Epoch 51: saving model to model/keypoint_classifier\\keypoint_classifier.hdf5\n",
      "30/30 [==============================] - 0s 5ms/step - loss: 0.6170 - accuracy: 0.7602 - val_loss: 0.3216 - val_accuracy: 0.9392\n",
      "Epoch 52/1000\n",
      "26/30 [=========================>....] - ETA: 0s - loss: 0.6381 - accuracy: 0.7533\n",
      "Epoch 52: saving model to model/keypoint_classifier\\keypoint_classifier.hdf5\n",
      "30/30 [==============================] - 0s 5ms/step - loss: 0.6389 - accuracy: 0.7538 - val_loss: 0.3229 - val_accuracy: 0.9353\n",
      "Epoch 53/1000\n",
      "20/30 [===================>..........] - ETA: 0s - loss: 0.6342 - accuracy: 0.7512\n",
      "Epoch 53: saving model to model/keypoint_classifier\\keypoint_classifier.hdf5\n",
      "30/30 [==============================] - 0s 6ms/step - loss: 0.6335 - accuracy: 0.7554 - val_loss: 0.3299 - val_accuracy: 0.9345\n",
      "Epoch 54/1000\n",
      "20/30 [===================>..........] - ETA: 0s - loss: 0.6601 - accuracy: 0.7500\n",
      "Epoch 54: saving model to model/keypoint_classifier\\keypoint_classifier.hdf5\n",
      "30/30 [==============================] - 0s 5ms/step - loss: 0.6592 - accuracy: 0.7482 - val_loss: 0.3265 - val_accuracy: 0.9392\n",
      "Epoch 55/1000\n",
      "24/30 [=======================>......] - ETA: 0s - loss: 0.6533 - accuracy: 0.7425\n",
      "Epoch 55: saving model to model/keypoint_classifier\\keypoint_classifier.hdf5\n",
      "30/30 [==============================] - 0s 6ms/step - loss: 0.6511 - accuracy: 0.7447 - val_loss: 0.3266 - val_accuracy: 0.9424\n",
      "Epoch 56/1000\n",
      "20/30 [===================>..........] - ETA: 0s - loss: 0.6539 - accuracy: 0.7566\n",
      "Epoch 56: saving model to model/keypoint_classifier\\keypoint_classifier.hdf5\n",
      "30/30 [==============================] - 0s 6ms/step - loss: 0.6269 - accuracy: 0.7655 - val_loss: 0.3187 - val_accuracy: 0.9440\n",
      "Epoch 57/1000\n",
      "21/30 [====================>.........] - ETA: 0s - loss: 0.6182 - accuracy: 0.7723\n",
      "Epoch 57: saving model to model/keypoint_classifier\\keypoint_classifier.hdf5\n",
      "30/30 [==============================] - 0s 6ms/step - loss: 0.6155 - accuracy: 0.7716 - val_loss: 0.3133 - val_accuracy: 0.9392\n",
      "Epoch 58/1000\n",
      "21/30 [====================>.........] - ETA: 0s - loss: 0.6483 - accuracy: 0.7515\n",
      "Epoch 58: saving model to model/keypoint_classifier\\keypoint_classifier.hdf5\n",
      "30/30 [==============================] - 0s 5ms/step - loss: 0.6320 - accuracy: 0.7581 - val_loss: 0.3149 - val_accuracy: 0.9416\n",
      "Epoch 59/1000\n",
      "14/30 [=============>................] - ETA: 0s - loss: 0.6017 - accuracy: 0.7718\n",
      "Epoch 59: saving model to model/keypoint_classifier\\keypoint_classifier.hdf5\n",
      "30/30 [==============================] - 0s 7ms/step - loss: 0.6232 - accuracy: 0.7586 - val_loss: 0.3082 - val_accuracy: 0.9448\n",
      "Epoch 60/1000\n",
      "23/30 [======================>.......] - ETA: 0s - loss: 0.6311 - accuracy: 0.7677\n",
      "Epoch 60: saving model to model/keypoint_classifier\\keypoint_classifier.hdf5\n",
      "30/30 [==============================] - 0s 5ms/step - loss: 0.6360 - accuracy: 0.7615 - val_loss: 0.3148 - val_accuracy: 0.9408\n",
      "Epoch 61/1000\n",
      "19/30 [==================>...........] - ETA: 0s - loss: 0.6035 - accuracy: 0.7673\n",
      "Epoch 61: saving model to model/keypoint_classifier\\keypoint_classifier.hdf5\n",
      "30/30 [==============================] - 0s 7ms/step - loss: 0.6208 - accuracy: 0.7647 - val_loss: 0.3055 - val_accuracy: 0.9432\n",
      "Epoch 62/1000\n",
      "17/30 [================>.............] - ETA: 0s - loss: 0.6208 - accuracy: 0.7661\n",
      "Epoch 62: saving model to model/keypoint_classifier\\keypoint_classifier.hdf5\n",
      "30/30 [==============================] - 0s 6ms/step - loss: 0.6101 - accuracy: 0.7679 - val_loss: 0.3071 - val_accuracy: 0.9496\n",
      "Epoch 63/1000\n",
      "24/30 [=======================>......] - ETA: 0s - loss: 0.6110 - accuracy: 0.7790\n",
      "Epoch 63: saving model to model/keypoint_classifier\\keypoint_classifier.hdf5\n",
      "30/30 [==============================] - 0s 6ms/step - loss: 0.6160 - accuracy: 0.7738 - val_loss: 0.2952 - val_accuracy: 0.9552\n",
      "Epoch 64/1000\n",
      "17/30 [================>.............] - ETA: 0s - loss: 0.6071 - accuracy: 0.7610\n",
      "Epoch 64: saving model to model/keypoint_classifier\\keypoint_classifier.hdf5\n",
      "30/30 [==============================] - 0s 6ms/step - loss: 0.6057 - accuracy: 0.7677 - val_loss: 0.3032 - val_accuracy: 0.9472\n",
      "Epoch 65/1000\n",
      "23/30 [======================>.......] - ETA: 0s - loss: 0.5949 - accuracy: 0.7731\n",
      "Epoch 65: saving model to model/keypoint_classifier\\keypoint_classifier.hdf5\n",
      "30/30 [==============================] - 0s 5ms/step - loss: 0.5985 - accuracy: 0.7748 - val_loss: 0.2953 - val_accuracy: 0.9528\n",
      "Epoch 66/1000\n",
      "24/30 [=======================>......] - ETA: 0s - loss: 0.5741 - accuracy: 0.7806\n",
      "Epoch 66: saving model to model/keypoint_classifier\\keypoint_classifier.hdf5\n",
      "30/30 [==============================] - 0s 5ms/step - loss: 0.5897 - accuracy: 0.7799 - val_loss: 0.2880 - val_accuracy: 0.9552\n",
      "Epoch 67/1000\n",
      "24/30 [=======================>......] - ETA: 0s - loss: 0.5898 - accuracy: 0.7793\n",
      "Epoch 67: saving model to model/keypoint_classifier\\keypoint_classifier.hdf5\n",
      "30/30 [==============================] - 0s 5ms/step - loss: 0.5874 - accuracy: 0.7807 - val_loss: 0.2897 - val_accuracy: 0.9488\n",
      "Epoch 68/1000\n",
      "26/30 [=========================>....] - ETA: 0s - loss: 0.5945 - accuracy: 0.7746\n",
      "Epoch 68: saving model to model/keypoint_classifier\\keypoint_classifier.hdf5\n",
      "30/30 [==============================] - 0s 5ms/step - loss: 0.5854 - accuracy: 0.7783 - val_loss: 0.2869 - val_accuracy: 0.9512\n",
      "Epoch 69/1000\n",
      "27/30 [==========================>...] - ETA: 0s - loss: 0.6194 - accuracy: 0.7697\n",
      "Epoch 69: saving model to model/keypoint_classifier\\keypoint_classifier.hdf5\n",
      "30/30 [==============================] - 0s 5ms/step - loss: 0.6140 - accuracy: 0.7724 - val_loss: 0.2832 - val_accuracy: 0.9512\n",
      "Epoch 70/1000\n",
      "26/30 [=========================>....] - ETA: 0s - loss: 0.6238 - accuracy: 0.7539\n",
      "Epoch 70: saving model to model/keypoint_classifier\\keypoint_classifier.hdf5\n",
      "30/30 [==============================] - 0s 5ms/step - loss: 0.6118 - accuracy: 0.7591 - val_loss: 0.2819 - val_accuracy: 0.9536\n",
      "Epoch 71/1000\n",
      "26/30 [=========================>....] - ETA: 0s - loss: 0.5782 - accuracy: 0.7779\n",
      "Epoch 71: saving model to model/keypoint_classifier\\keypoint_classifier.hdf5\n",
      "30/30 [==============================] - 0s 5ms/step - loss: 0.5802 - accuracy: 0.7783 - val_loss: 0.2761 - val_accuracy: 0.9560\n",
      "Epoch 72/1000\n",
      "26/30 [=========================>....] - ETA: 0s - loss: 0.5976 - accuracy: 0.7713\n",
      "Epoch 72: saving model to model/keypoint_classifier\\keypoint_classifier.hdf5\n",
      "30/30 [==============================] - 0s 5ms/step - loss: 0.6013 - accuracy: 0.7687 - val_loss: 0.2802 - val_accuracy: 0.9600\n",
      "Epoch 73/1000\n",
      "26/30 [=========================>....] - ETA: 0s - loss: 0.6189 - accuracy: 0.7704\n",
      "Epoch 73: saving model to model/keypoint_classifier\\keypoint_classifier.hdf5\n",
      "30/30 [==============================] - 0s 5ms/step - loss: 0.6202 - accuracy: 0.7706 - val_loss: 0.2881 - val_accuracy: 0.9584\n",
      "Epoch 74/1000\n",
      "26/30 [=========================>....] - ETA: 0s - loss: 0.5886 - accuracy: 0.7816\n",
      "Epoch 74: saving model to model/keypoint_classifier\\keypoint_classifier.hdf5\n",
      "30/30 [==============================] - 0s 5ms/step - loss: 0.5848 - accuracy: 0.7831 - val_loss: 0.2820 - val_accuracy: 0.9536\n",
      "Epoch 75/1000\n",
      "19/30 [==================>...........] - ETA: 0s - loss: 0.6061 - accuracy: 0.7763\n",
      "Epoch 75: saving model to model/keypoint_classifier\\keypoint_classifier.hdf5\n",
      "30/30 [==============================] - 0s 6ms/step - loss: 0.5852 - accuracy: 0.7815 - val_loss: 0.2812 - val_accuracy: 0.9512\n",
      "Epoch 76/1000\n",
      "23/30 [======================>.......] - ETA: 0s - loss: 0.5718 - accuracy: 0.7823\n",
      "Epoch 76: saving model to model/keypoint_classifier\\keypoint_classifier.hdf5\n",
      "30/30 [==============================] - 0s 5ms/step - loss: 0.5825 - accuracy: 0.7812 - val_loss: 0.2789 - val_accuracy: 0.9536\n",
      "Epoch 77/1000\n",
      "17/30 [================>.............] - ETA: 0s - loss: 0.5997 - accuracy: 0.7638\n",
      "Epoch 77: saving model to model/keypoint_classifier\\keypoint_classifier.hdf5\n",
      "30/30 [==============================] - 0s 6ms/step - loss: 0.5905 - accuracy: 0.7711 - val_loss: 0.2786 - val_accuracy: 0.9504\n",
      "Epoch 78/1000\n",
      "30/30 [==============================] - ETA: 0s - loss: 0.5956 - accuracy: 0.7732\n",
      "Epoch 78: saving model to model/keypoint_classifier\\keypoint_classifier.hdf5\n",
      "30/30 [==============================] - 0s 14ms/step - loss: 0.5956 - accuracy: 0.7732 - val_loss: 0.2699 - val_accuracy: 0.9608\n",
      "Epoch 79/1000\n",
      "24/30 [=======================>......] - ETA: 0s - loss: 0.5879 - accuracy: 0.7842\n",
      "Epoch 79: saving model to model/keypoint_classifier\\keypoint_classifier.hdf5\n",
      "30/30 [==============================] - 0s 12ms/step - loss: 0.5916 - accuracy: 0.7807 - val_loss: 0.2707 - val_accuracy: 0.9568\n",
      "Epoch 80/1000\n",
      "18/30 [=================>............] - ETA: 0s - loss: 0.5811 - accuracy: 0.7943\n",
      "Epoch 80: saving model to model/keypoint_classifier\\keypoint_classifier.hdf5\n",
      "30/30 [==============================] - 0s 7ms/step - loss: 0.5736 - accuracy: 0.7946 - val_loss: 0.2652 - val_accuracy: 0.9576\n",
      "Epoch 81/1000\n",
      "30/30 [==============================] - ETA: 0s - loss: 0.5776 - accuracy: 0.7946\n",
      "Epoch 81: saving model to model/keypoint_classifier\\keypoint_classifier.hdf5\n",
      "30/30 [==============================] - 0s 8ms/step - loss: 0.5776 - accuracy: 0.7946 - val_loss: 0.2747 - val_accuracy: 0.9520\n",
      "Epoch 82/1000\n",
      "26/30 [=========================>....] - ETA: 0s - loss: 0.5734 - accuracy: 0.7900\n",
      "Epoch 82: saving model to model/keypoint_classifier\\keypoint_classifier.hdf5\n",
      "30/30 [==============================] - 0s 9ms/step - loss: 0.5775 - accuracy: 0.7876 - val_loss: 0.2666 - val_accuracy: 0.9624\n",
      "Epoch 83/1000\n",
      "18/30 [=================>............] - ETA: 0s - loss: 0.5548 - accuracy: 0.8051\n",
      "Epoch 83: saving model to model/keypoint_classifier\\keypoint_classifier.hdf5\n",
      "30/30 [==============================] - 0s 7ms/step - loss: 0.5624 - accuracy: 0.7980 - val_loss: 0.2643 - val_accuracy: 0.9528\n",
      "Epoch 84/1000\n",
      "17/30 [================>.............] - ETA: 0s - loss: 0.5781 - accuracy: 0.7822\n",
      "Epoch 84: saving model to model/keypoint_classifier\\keypoint_classifier.hdf5\n",
      "30/30 [==============================] - 0s 6ms/step - loss: 0.5609 - accuracy: 0.7860 - val_loss: 0.2630 - val_accuracy: 0.9584\n",
      "Epoch 85/1000\n",
      "24/30 [=======================>......] - ETA: 0s - loss: 0.5707 - accuracy: 0.7972\n",
      "Epoch 85: saving model to model/keypoint_classifier\\keypoint_classifier.hdf5\n",
      "30/30 [==============================] - 0s 5ms/step - loss: 0.5739 - accuracy: 0.7943 - val_loss: 0.2675 - val_accuracy: 0.9544\n",
      "Epoch 86/1000\n",
      "26/30 [=========================>....] - ETA: 0s - loss: 0.5911 - accuracy: 0.7846\n",
      "Epoch 86: saving model to model/keypoint_classifier\\keypoint_classifier.hdf5\n",
      "30/30 [==============================] - 0s 5ms/step - loss: 0.5871 - accuracy: 0.7844 - val_loss: 0.2788 - val_accuracy: 0.9504\n",
      "Epoch 87/1000\n",
      "26/30 [=========================>....] - ETA: 0s - loss: 0.5398 - accuracy: 0.8029\n",
      "Epoch 87: saving model to model/keypoint_classifier\\keypoint_classifier.hdf5\n",
      "30/30 [==============================] - 0s 5ms/step - loss: 0.5505 - accuracy: 0.7996 - val_loss: 0.2631 - val_accuracy: 0.9520\n",
      "Epoch 88/1000\n",
      "25/30 [========================>.....] - ETA: 0s - loss: 0.5556 - accuracy: 0.7981\n",
      "Epoch 88: saving model to model/keypoint_classifier\\keypoint_classifier.hdf5\n",
      "30/30 [==============================] - 0s 5ms/step - loss: 0.5509 - accuracy: 0.7986 - val_loss: 0.2535 - val_accuracy: 0.9520\n",
      "Epoch 89/1000\n",
      "27/30 [==========================>...] - ETA: 0s - loss: 0.5924 - accuracy: 0.7876\n",
      "Epoch 89: saving model to model/keypoint_classifier\\keypoint_classifier.hdf5\n",
      "30/30 [==============================] - 0s 5ms/step - loss: 0.5830 - accuracy: 0.7919 - val_loss: 0.2659 - val_accuracy: 0.9512\n",
      "Epoch 90/1000\n",
      "24/30 [=======================>......] - ETA: 0s - loss: 0.5604 - accuracy: 0.7845\n",
      "Epoch 90: saving model to model/keypoint_classifier\\keypoint_classifier.hdf5\n",
      "30/30 [==============================] - 0s 5ms/step - loss: 0.5529 - accuracy: 0.7871 - val_loss: 0.2598 - val_accuracy: 0.9536\n",
      "Epoch 91/1000\n",
      "22/30 [=====================>........] - ETA: 0s - loss: 0.5727 - accuracy: 0.7908\n",
      "Epoch 91: saving model to model/keypoint_classifier\\keypoint_classifier.hdf5\n",
      "30/30 [==============================] - 0s 5ms/step - loss: 0.5730 - accuracy: 0.7874 - val_loss: 0.2539 - val_accuracy: 0.9624\n",
      "Epoch 92/1000\n",
      "22/30 [=====================>........] - ETA: 0s - loss: 0.5604 - accuracy: 0.7930\n",
      "Epoch 92: saving model to model/keypoint_classifier\\keypoint_classifier.hdf5\n",
      "30/30 [==============================] - 0s 6ms/step - loss: 0.5514 - accuracy: 0.7943 - val_loss: 0.2529 - val_accuracy: 0.9544\n",
      "Epoch 93/1000\n",
      "27/30 [==========================>...] - ETA: 0s - loss: 0.5791 - accuracy: 0.7847\n",
      "Epoch 93: saving model to model/keypoint_classifier\\keypoint_classifier.hdf5\n",
      "30/30 [==============================] - 0s 5ms/step - loss: 0.5754 - accuracy: 0.7858 - val_loss: 0.2660 - val_accuracy: 0.9544\n",
      "Epoch 94/1000\n",
      "24/30 [=======================>......] - ETA: 0s - loss: 0.5502 - accuracy: 0.7979\n",
      "Epoch 94: saving model to model/keypoint_classifier\\keypoint_classifier.hdf5\n",
      "30/30 [==============================] - 0s 5ms/step - loss: 0.5631 - accuracy: 0.7919 - val_loss: 0.2539 - val_accuracy: 0.9584\n",
      "Epoch 95/1000\n",
      "26/30 [=========================>....] - ETA: 0s - loss: 0.5480 - accuracy: 0.7966\n",
      "Epoch 95: saving model to model/keypoint_classifier\\keypoint_classifier.hdf5\n",
      "30/30 [==============================] - 0s 5ms/step - loss: 0.5457 - accuracy: 0.7988 - val_loss: 0.2569 - val_accuracy: 0.9592\n",
      "Epoch 96/1000\n",
      "25/30 [========================>.....] - ETA: 0s - loss: 0.5595 - accuracy: 0.8028\n",
      "Epoch 96: saving model to model/keypoint_classifier\\keypoint_classifier.hdf5\n",
      "30/30 [==============================] - 0s 5ms/step - loss: 0.5683 - accuracy: 0.7988 - val_loss: 0.2575 - val_accuracy: 0.9560\n",
      "Epoch 97/1000\n",
      "25/30 [========================>.....] - ETA: 0s - loss: 0.5450 - accuracy: 0.7953\n",
      "Epoch 97: saving model to model/keypoint_classifier\\keypoint_classifier.hdf5\n",
      "30/30 [==============================] - 0s 5ms/step - loss: 0.5551 - accuracy: 0.7932 - val_loss: 0.2527 - val_accuracy: 0.9552\n",
      "Epoch 98/1000\n",
      "27/30 [==========================>...] - ETA: 0s - loss: 0.5795 - accuracy: 0.7911\n",
      "Epoch 98: saving model to model/keypoint_classifier\\keypoint_classifier.hdf5\n",
      "30/30 [==============================] - 0s 5ms/step - loss: 0.5842 - accuracy: 0.7884 - val_loss: 0.2615 - val_accuracy: 0.9536\n",
      "Epoch 99/1000\n",
      "27/30 [==========================>...] - ETA: 0s - loss: 0.5808 - accuracy: 0.7844\n",
      "Epoch 99: saving model to model/keypoint_classifier\\keypoint_classifier.hdf5\n",
      "30/30 [==============================] - 0s 5ms/step - loss: 0.5810 - accuracy: 0.7855 - val_loss: 0.2605 - val_accuracy: 0.9584\n",
      "Epoch 100/1000\n",
      "27/30 [==========================>...] - ETA: 0s - loss: 0.5673 - accuracy: 0.8030\n",
      "Epoch 100: saving model to model/keypoint_classifier\\keypoint_classifier.hdf5\n",
      "30/30 [==============================] - 0s 5ms/step - loss: 0.5651 - accuracy: 0.8042 - val_loss: 0.2595 - val_accuracy: 0.9608\n",
      "Epoch 101/1000\n",
      "21/30 [====================>.........] - ETA: 0s - loss: 0.5583 - accuracy: 0.7972\n",
      "Epoch 101: saving model to model/keypoint_classifier\\keypoint_classifier.hdf5\n",
      "30/30 [==============================] - 0s 5ms/step - loss: 0.5536 - accuracy: 0.7951 - val_loss: 0.2558 - val_accuracy: 0.9592\n",
      "Epoch 102/1000\n",
      "24/30 [=======================>......] - ETA: 0s - loss: 0.5434 - accuracy: 0.8008\n",
      "Epoch 102: saving model to model/keypoint_classifier\\keypoint_classifier.hdf5\n",
      "30/30 [==============================] - 0s 5ms/step - loss: 0.5501 - accuracy: 0.7983 - val_loss: 0.2526 - val_accuracy: 0.9576\n",
      "Epoch 103/1000\n",
      "25/30 [========================>.....] - ETA: 0s - loss: 0.5544 - accuracy: 0.8006\n",
      "Epoch 103: saving model to model/keypoint_classifier\\keypoint_classifier.hdf5\n",
      "30/30 [==============================] - 0s 5ms/step - loss: 0.5555 - accuracy: 0.7980 - val_loss: 0.2517 - val_accuracy: 0.9592\n",
      "Epoch 104/1000\n",
      "26/30 [=========================>....] - ETA: 0s - loss: 0.5591 - accuracy: 0.7948\n",
      "Epoch 104: saving model to model/keypoint_classifier\\keypoint_classifier.hdf5\n",
      "30/30 [==============================] - 0s 5ms/step - loss: 0.5618 - accuracy: 0.7954 - val_loss: 0.2510 - val_accuracy: 0.9560\n",
      "Epoch 105/1000\n",
      "27/30 [==========================>...] - ETA: 0s - loss: 0.5366 - accuracy: 0.8032\n",
      "Epoch 105: saving model to model/keypoint_classifier\\keypoint_classifier.hdf5\n",
      "30/30 [==============================] - 0s 5ms/step - loss: 0.5346 - accuracy: 0.8055 - val_loss: 0.2445 - val_accuracy: 0.9592\n",
      "Epoch 106/1000\n",
      "27/30 [==========================>...] - ETA: 0s - loss: 0.5407 - accuracy: 0.8032\n",
      "Epoch 106: saving model to model/keypoint_classifier\\keypoint_classifier.hdf5\n",
      "30/30 [==============================] - 0s 5ms/step - loss: 0.5378 - accuracy: 0.8055 - val_loss: 0.2443 - val_accuracy: 0.9560\n",
      "Epoch 107/1000\n",
      "26/30 [=========================>....] - ETA: 0s - loss: 0.5427 - accuracy: 0.8002\n",
      "Epoch 107: saving model to model/keypoint_classifier\\keypoint_classifier.hdf5\n",
      "30/30 [==============================] - 0s 5ms/step - loss: 0.5347 - accuracy: 0.8026 - val_loss: 0.2524 - val_accuracy: 0.9520\n",
      "Epoch 108/1000\n",
      "20/30 [===================>..........] - ETA: 0s - loss: 0.5404 - accuracy: 0.8070\n",
      "Epoch 108: saving model to model/keypoint_classifier\\keypoint_classifier.hdf5\n",
      "30/30 [==============================] - 0s 6ms/step - loss: 0.5392 - accuracy: 0.8058 - val_loss: 0.2480 - val_accuracy: 0.9536\n",
      "Epoch 109/1000\n",
      "22/30 [=====================>........] - ETA: 0s - loss: 0.5579 - accuracy: 0.7940\n",
      "Epoch 109: saving model to model/keypoint_classifier\\keypoint_classifier.hdf5\n",
      "30/30 [==============================] - 0s 5ms/step - loss: 0.5682 - accuracy: 0.7932 - val_loss: 0.2465 - val_accuracy: 0.9584\n",
      "Epoch 110/1000\n",
      "25/30 [========================>.....] - ETA: 0s - loss: 0.5454 - accuracy: 0.7972\n",
      "Epoch 110: saving model to model/keypoint_classifier\\keypoint_classifier.hdf5\n",
      "30/30 [==============================] - 0s 5ms/step - loss: 0.5343 - accuracy: 0.8020 - val_loss: 0.2542 - val_accuracy: 0.9520\n",
      "Epoch 111/1000\n",
      "26/30 [=========================>....] - ETA: 0s - loss: 0.5531 - accuracy: 0.7996\n",
      "Epoch 111: saving model to model/keypoint_classifier\\keypoint_classifier.hdf5\n",
      "30/30 [==============================] - 0s 5ms/step - loss: 0.5489 - accuracy: 0.7994 - val_loss: 0.2479 - val_accuracy: 0.9592\n",
      "Epoch 112/1000\n",
      "25/30 [========================>.....] - ETA: 0s - loss: 0.5310 - accuracy: 0.8059\n",
      "Epoch 112: saving model to model/keypoint_classifier\\keypoint_classifier.hdf5\n",
      "30/30 [==============================] - 0s 5ms/step - loss: 0.5299 - accuracy: 0.8082 - val_loss: 0.2437 - val_accuracy: 0.9552\n",
      "Epoch 113/1000\n",
      "26/30 [=========================>....] - ETA: 0s - loss: 0.5737 - accuracy: 0.7951\n",
      "Epoch 113: saving model to model/keypoint_classifier\\keypoint_classifier.hdf5\n",
      "30/30 [==============================] - 0s 5ms/step - loss: 0.5707 - accuracy: 0.7959 - val_loss: 0.2546 - val_accuracy: 0.9520\n",
      "Epoch 114/1000\n",
      "26/30 [=========================>....] - ETA: 0s - loss: 0.5336 - accuracy: 0.8038\n",
      "Epoch 114: saving model to model/keypoint_classifier\\keypoint_classifier.hdf5\n",
      "30/30 [==============================] - 0s 5ms/step - loss: 0.5395 - accuracy: 0.8012 - val_loss: 0.2428 - val_accuracy: 0.9616\n",
      "Epoch 115/1000\n",
      "24/30 [=======================>......] - ETA: 0s - loss: 0.5446 - accuracy: 0.8040\n",
      "Epoch 115: saving model to model/keypoint_classifier\\keypoint_classifier.hdf5\n",
      "30/30 [==============================] - 0s 5ms/step - loss: 0.5399 - accuracy: 0.8050 - val_loss: 0.2454 - val_accuracy: 0.9584\n",
      "Epoch 116/1000\n",
      "23/30 [======================>.......] - ETA: 0s - loss: 0.5452 - accuracy: 0.7986\n",
      "Epoch 116: saving model to model/keypoint_classifier\\keypoint_classifier.hdf5\n",
      "30/30 [==============================] - 0s 5ms/step - loss: 0.5421 - accuracy: 0.7994 - val_loss: 0.2527 - val_accuracy: 0.9552\n",
      "Epoch 117/1000\n",
      "27/30 [==========================>...] - ETA: 0s - loss: 0.5566 - accuracy: 0.7905\n",
      "Epoch 117: saving model to model/keypoint_classifier\\keypoint_classifier.hdf5\n",
      "30/30 [==============================] - 0s 5ms/step - loss: 0.5557 - accuracy: 0.7922 - val_loss: 0.2454 - val_accuracy: 0.9600\n",
      "Epoch 118/1000\n",
      "26/30 [=========================>....] - ETA: 0s - loss: 0.5329 - accuracy: 0.8107\n",
      "Epoch 118: saving model to model/keypoint_classifier\\keypoint_classifier.hdf5\n",
      "30/30 [==============================] - 0s 5ms/step - loss: 0.5273 - accuracy: 0.8114 - val_loss: 0.2441 - val_accuracy: 0.9568\n",
      "Epoch 119/1000\n",
      "27/30 [==========================>...] - ETA: 0s - loss: 0.5186 - accuracy: 0.8090\n",
      "Epoch 119: saving model to model/keypoint_classifier\\keypoint_classifier.hdf5\n",
      "30/30 [==============================] - 0s 5ms/step - loss: 0.5226 - accuracy: 0.8076 - val_loss: 0.2430 - val_accuracy: 0.9576\n",
      "Epoch 120/1000\n",
      "26/30 [=========================>....] - ETA: 0s - loss: 0.5313 - accuracy: 0.8008\n",
      "Epoch 120: saving model to model/keypoint_classifier\\keypoint_classifier.hdf5\n",
      "30/30 [==============================] - 0s 5ms/step - loss: 0.5257 - accuracy: 0.8028 - val_loss: 0.2348 - val_accuracy: 0.9552\n",
      "Epoch 121/1000\n",
      "29/30 [============================>.] - ETA: 0s - loss: 0.5386 - accuracy: 0.8085\n",
      "Epoch 121: saving model to model/keypoint_classifier\\keypoint_classifier.hdf5\n",
      "30/30 [==============================] - 0s 4ms/step - loss: 0.5368 - accuracy: 0.8098 - val_loss: 0.2352 - val_accuracy: 0.9648\n",
      "Epoch 122/1000\n",
      "21/30 [====================>.........] - ETA: 0s - loss: 0.5485 - accuracy: 0.7958\n",
      "Epoch 122: saving model to model/keypoint_classifier\\keypoint_classifier.hdf5\n",
      "30/30 [==============================] - 0s 5ms/step - loss: 0.5415 - accuracy: 0.8010 - val_loss: 0.2369 - val_accuracy: 0.9584\n",
      "Epoch 123/1000\n",
      "22/30 [=====================>........] - ETA: 0s - loss: 0.5592 - accuracy: 0.7912\n",
      "Epoch 123: saving model to model/keypoint_classifier\\keypoint_classifier.hdf5\n",
      "30/30 [==============================] - 0s 5ms/step - loss: 0.5667 - accuracy: 0.7876 - val_loss: 0.2438 - val_accuracy: 0.9536\n",
      "Epoch 124/1000\n",
      "23/30 [======================>.......] - ETA: 0s - loss: 0.5375 - accuracy: 0.8060\n",
      "Epoch 124: saving model to model/keypoint_classifier\\keypoint_classifier.hdf5\n",
      "30/30 [==============================] - 0s 5ms/step - loss: 0.5415 - accuracy: 0.8044 - val_loss: 0.2500 - val_accuracy: 0.9552\n",
      "Epoch 125/1000\n",
      "25/30 [========================>.....] - ETA: 0s - loss: 0.5304 - accuracy: 0.8072\n",
      "Epoch 125: saving model to model/keypoint_classifier\\keypoint_classifier.hdf5\n",
      "30/30 [==============================] - 0s 5ms/step - loss: 0.5344 - accuracy: 0.8076 - val_loss: 0.2494 - val_accuracy: 0.9552\n",
      "Epoch 126/1000\n",
      "24/30 [=======================>......] - ETA: 0s - loss: 0.5306 - accuracy: 0.8034\n",
      "Epoch 126: saving model to model/keypoint_classifier\\keypoint_classifier.hdf5\n",
      "30/30 [==============================] - 0s 5ms/step - loss: 0.5297 - accuracy: 0.8063 - val_loss: 0.2440 - val_accuracy: 0.9528\n",
      "Epoch 127/1000\n",
      "26/30 [=========================>....] - ETA: 0s - loss: 0.5197 - accuracy: 0.8119\n",
      "Epoch 127: saving model to model/keypoint_classifier\\keypoint_classifier.hdf5\n",
      "30/30 [==============================] - 0s 5ms/step - loss: 0.5241 - accuracy: 0.8100 - val_loss: 0.2496 - val_accuracy: 0.9528\n",
      "Epoch 128/1000\n",
      "25/30 [========================>.....] - ETA: 0s - loss: 0.5367 - accuracy: 0.7984\n",
      "Epoch 128: saving model to model/keypoint_classifier\\keypoint_classifier.hdf5\n",
      "30/30 [==============================] - 0s 5ms/step - loss: 0.5292 - accuracy: 0.8012 - val_loss: 0.2500 - val_accuracy: 0.9560\n",
      "Epoch 129/1000\n",
      "17/30 [================>.............] - ETA: 0s - loss: 0.5420 - accuracy: 0.8019\n",
      "Epoch 129: saving model to model/keypoint_classifier\\keypoint_classifier.hdf5\n",
      "30/30 [==============================] - 0s 7ms/step - loss: 0.5334 - accuracy: 0.8036 - val_loss: 0.2435 - val_accuracy: 0.9552\n",
      "Epoch 130/1000\n",
      "26/30 [=========================>....] - ETA: 0s - loss: 0.5422 - accuracy: 0.7996\n",
      "Epoch 130: saving model to model/keypoint_classifier\\keypoint_classifier.hdf5\n",
      "30/30 [==============================] - 0s 5ms/step - loss: 0.5546 - accuracy: 0.7970 - val_loss: 0.2504 - val_accuracy: 0.9512\n",
      "Epoch 131/1000\n",
      "27/30 [==========================>...] - ETA: 0s - loss: 0.5483 - accuracy: 0.8009\n",
      "Epoch 131: saving model to model/keypoint_classifier\\keypoint_classifier.hdf5\n",
      "30/30 [==============================] - 0s 5ms/step - loss: 0.5441 - accuracy: 0.8015 - val_loss: 0.2482 - val_accuracy: 0.9544\n",
      "Epoch 132/1000\n",
      "25/30 [========================>.....] - ETA: 0s - loss: 0.5174 - accuracy: 0.8134\n",
      "Epoch 132: saving model to model/keypoint_classifier\\keypoint_classifier.hdf5\n",
      "30/30 [==============================] - 0s 5ms/step - loss: 0.5214 - accuracy: 0.8127 - val_loss: 0.2478 - val_accuracy: 0.9480\n",
      "Epoch 133/1000\n",
      "25/30 [========================>.....] - ETA: 0s - loss: 0.5477 - accuracy: 0.8059\n",
      "Epoch 133: saving model to model/keypoint_classifier\\keypoint_classifier.hdf5\n",
      "30/30 [==============================] - 0s 5ms/step - loss: 0.5403 - accuracy: 0.8071 - val_loss: 0.2412 - val_accuracy: 0.9544\n",
      "Epoch 134/1000\n",
      "24/30 [=======================>......] - ETA: 0s - loss: 0.5239 - accuracy: 0.8053\n",
      "Epoch 134: saving model to model/keypoint_classifier\\keypoint_classifier.hdf5\n",
      "30/30 [==============================] - 0s 5ms/step - loss: 0.5370 - accuracy: 0.8050 - val_loss: 0.2368 - val_accuracy: 0.9576\n",
      "Epoch 135/1000\n",
      "25/30 [========================>.....] - ETA: 0s - loss: 0.5354 - accuracy: 0.8050\n",
      "Epoch 135: saving model to model/keypoint_classifier\\keypoint_classifier.hdf5\n",
      "30/30 [==============================] - 0s 5ms/step - loss: 0.5314 - accuracy: 0.8079 - val_loss: 0.2503 - val_accuracy: 0.9464\n",
      "Epoch 136/1000\n",
      "25/30 [========================>.....] - ETA: 0s - loss: 0.5331 - accuracy: 0.8012\n",
      "Epoch 136: saving model to model/keypoint_classifier\\keypoint_classifier.hdf5\n",
      "30/30 [==============================] - 0s 5ms/step - loss: 0.5452 - accuracy: 0.7983 - val_loss: 0.2471 - val_accuracy: 0.9464\n",
      "Epoch 137/1000\n",
      "25/30 [========================>.....] - ETA: 0s - loss: 0.5298 - accuracy: 0.8094\n",
      "Epoch 137: saving model to model/keypoint_classifier\\keypoint_classifier.hdf5\n",
      "30/30 [==============================] - 0s 6ms/step - loss: 0.5257 - accuracy: 0.8100 - val_loss: 0.2463 - val_accuracy: 0.9504\n",
      "Epoch 138/1000\n",
      "21/30 [====================>.........] - ETA: 0s - loss: 0.5123 - accuracy: 0.8092\n",
      "Epoch 138: saving model to model/keypoint_classifier\\keypoint_classifier.hdf5\n",
      "30/30 [==============================] - 0s 7ms/step - loss: 0.5286 - accuracy: 0.8058 - val_loss: 0.2387 - val_accuracy: 0.9536\n",
      "Epoch 139/1000\n",
      "23/30 [======================>.......] - ETA: 0s - loss: 0.5582 - accuracy: 0.7962\n",
      "Epoch 139: saving model to model/keypoint_classifier\\keypoint_classifier.hdf5\n",
      "30/30 [==============================] - 0s 11ms/step - loss: 0.5563 - accuracy: 0.7948 - val_loss: 0.2400 - val_accuracy: 0.9616\n",
      "Epoch 140/1000\n",
      "15/30 [==============>...............] - ETA: 0s - loss: 0.5319 - accuracy: 0.8062\n",
      "Epoch 140: saving model to model/keypoint_classifier\\keypoint_classifier.hdf5\n",
      "30/30 [==============================] - 0s 7ms/step - loss: 0.5350 - accuracy: 0.8071 - val_loss: 0.2417 - val_accuracy: 0.9568\n",
      "Epoch 140: early stopping\n"
     ]
    },
    {
     "data": {
      "text/plain": [
       "<keras.src.callbacks.History at 0x221624b1be0>"
      ]
     },
     "execution_count": 26,
     "metadata": {},
     "output_type": "execute_result"
    }
   ],
   "source": [
    "model.fit(\n",
    "    X_train,\n",
    "    y_train,\n",
    "    epochs=1000,\n",
    "    batch_size=128,\n",
    "    validation_data=(X_test, y_test),\n",
    "    callbacks=[cp_callback, es_callback]\n",
    ")"
   ]
  },
  {
   "cell_type": "code",
   "execution_count": 27,
   "metadata": {
    "colab": {
     "base_uri": "https://localhost:8080/"
    },
    "id": "pxvb2Y299hE3",
    "outputId": "59eb3185-2e37-4b9e-bc9d-ab1b8ac29b7f"
   },
   "outputs": [
    {
     "name": "stdout",
     "output_type": "stream",
     "text": [
      "10/10 [==============================] - 0s 2ms/step - loss: 0.2417 - accuracy: 0.9568\n"
     ]
    }
   ],
   "source": [
    "# Model evaluation\n",
    "val_loss, val_acc = model.evaluate(X_test, y_test, batch_size=128)"
   ]
  },
  {
   "cell_type": "code",
   "execution_count": 28,
   "metadata": {
    "id": "RBkmDeUW9hE4"
   },
   "outputs": [],
   "source": [
    "# Loading the saved model\n",
    "model = tf.keras.models.load_model(model_save_path)"
   ]
  },
  {
   "cell_type": "code",
   "execution_count": 29,
   "metadata": {
    "colab": {
     "base_uri": "https://localhost:8080/"
    },
    "id": "tFz9Tb0I9hE4",
    "outputId": "1c3b3528-54ae-4ee2-ab04-77429211cbef"
   },
   "outputs": [
    {
     "name": "stdout",
     "output_type": "stream",
     "text": [
      "1/1 [==============================] - 0s 76ms/step\n",
      "[9.0694290e-01 9.0495786e-03 1.6328207e-06 8.2527861e-02 1.4781057e-03]\n",
      "0\n"
     ]
    }
   ],
   "source": [
    "# Inference test\n",
    "predict_result = model.predict(np.array([X_test[0]]))\n",
    "print(np.squeeze(predict_result))\n",
    "print(np.argmax(np.squeeze(predict_result)))"
   ]
  },
  {
   "cell_type": "markdown",
   "metadata": {
    "id": "S3U4yNWx9hE4"
   },
   "source": [
    "# Confusion matrix"
   ]
  },
  {
   "cell_type": "code",
   "execution_count": 30,
   "metadata": {
    "colab": {
     "base_uri": "https://localhost:8080/",
     "height": 582
    },
    "id": "AP1V6SCk9hE5",
    "outputId": "08e41a80-7a4a-4619-8125-ecc371368d19"
   },
   "outputs": [
    {
     "name": "stdout",
     "output_type": "stream",
     "text": [
      "40/40 [==============================] - 0s 1ms/step\n"
     ]
    },
    {
     "data": {
      "image/png": "[encoded data removed]",
      "text/plain": [
       "<Figure size 700x600 with 2 Axes>"
      ]
     },
     "metadata": {},
     "output_type": "display_data"
    },
    {
     "name": "stdout",
     "output_type": "stream",
     "text": [
      "Classification Report\n",
      "              precision    recall  f1-score   support\n",
      "\n",
      "           0       0.97      1.00      0.99       396\n",
      "           1       0.99      0.89      0.94       380\n",
      "           2       0.90      0.98      0.94       331\n",
      "           3       0.99      0.96      0.97        91\n",
      "           4       1.00      0.96      0.98        53\n",
      "\n",
      "    accuracy                           0.96      1251\n",
      "   macro avg       0.97      0.96      0.96      1251\n",
      "weighted avg       0.96      0.96      0.96      1251\n",
      "\n"
     ]
    }
   ],
   "source": [
    "import pandas as pd\n",
    "import seaborn as sns\n",
    "import matplotlib.pyplot as plt\n",
    "from sklearn.metrics import confusion_matrix, classification_report\n",
    "\n",
    "def print_confusion_matrix(y_true, y_pred, report=True):\n",
    "    labels = sorted(list(set(y_true)))\n",
    "    cmx_data = confusion_matrix(y_true, y_pred, labels=labels)\n",
    "    \n",
    "    df_cmx = pd.DataFrame(cmx_data, index=labels, columns=labels)\n",
    " \n",
    "    fig, ax = plt.subplots(figsize=(7, 6))\n",
    "    sns.heatmap(df_cmx, annot=True, fmt='g' ,square=False)\n",
    "    ax.set_ylim(len(set(y_true)), 0)\n",
    "    plt.show()\n",
    "    \n",
    "    if report:\n",
    "        print('Classification Report')\n",
    "        print(classification_report(y_test, y_pred))\n",
    "\n",
    "Y_pred = model.predict(X_test)\n",
    "y_pred = np.argmax(Y_pred, axis=1)\n",
    "\n",
    "print_confusion_matrix(y_test, y_pred)"
   ]
  },
  {
   "cell_type": "markdown",
   "metadata": {
    "id": "FNP6aqzc9hE5"
   },
   "source": [
    "# Convert to model for Tensorflow-Lite"
   ]
  },
  {
   "cell_type": "code",
   "execution_count": 31,
   "metadata": {
    "id": "ODjnYyld9hE6"
   },
   "outputs": [
    {
     "name": "stderr",
     "output_type": "stream",
     "text": [
      "c:\\users\\cheta\\appdata\\local\\programs\\python\\python38\\lib\\site-packages\\keras\\src\\engine\\training.py:3000: UserWarning: You are saving your model as an HDF5 file via `model.save()`. This file format is considered legacy. We recommend using instead the native Keras format, e.g. `model.save('my_model.keras')`.\n",
      "  saving_api.save_model(\n"
     ]
    }
   ],
   "source": [
    "# Save as a model dedicated to inference\n",
    "model.save(model_save_path, include_optimizer=False)"
   ]
  },
  {
   "cell_type": "code",
   "execution_count": 32,
   "metadata": {
    "colab": {
     "base_uri": "https://localhost:8080/"
    },
    "id": "zRfuK8Y59hE6",
    "outputId": "a4ca585c-b5d5-4244-8291-8674063209bb"
   },
   "outputs": [
    {
     "name": "stdout",
     "output_type": "stream",
     "text": [
      "INFO:tensorflow:Assets written to: C:\\Users\\cheta\\AppData\\Local\\Temp\\tmp77dp7_1h\\assets\n"
     ]
    },
    {
     "name": "stderr",
     "output_type": "stream",
     "text": [
      "INFO:tensorflow:Assets written to: C:\\Users\\cheta\\AppData\\Local\\Temp\\tmp77dp7_1h\\assets\n"
     ]
    },
    {
     "data": {
      "text/plain": [
       "6616"
      ]
     },
     "execution_count": 32,
     "metadata": {},
     "output_type": "execute_result"
    }
   ],
   "source": [
    "# Transform model (quantization)\n",
    "\n",
    "converter = tf.lite.TFLiteConverter.from_keras_model(model)\n",
    "converter.optimizations = [tf.lite.Optimize.DEFAULT]\n",
    "tflite_quantized_model = converter.convert()\n",
    "\n",
    "open(tflite_save_path, 'wb').write(tflite_quantized_model)"
   ]
  },
  {
   "cell_type": "markdown",
   "metadata": {
    "id": "CHBPBXdx9hE6"
   },
   "source": [
    "# Inference test"
   ]
  },
  {
   "cell_type": "code",
   "execution_count": 33,
   "metadata": {
    "id": "mGAzLocO9hE7"
   },
   "outputs": [],
   "source": [
    "interpreter = tf.lite.Interpreter(model_path=tflite_save_path)\n",
    "interpreter.allocate_tensors()"
   ]
  },
  {
   "cell_type": "code",
   "execution_count": 34,
   "metadata": {
    "id": "oQuDK8YS9hE7"
   },
   "outputs": [],
   "source": [
    "# Get I / O tensor\n",
    "input_details = interpreter.get_input_details()\n",
    "output_details = interpreter.get_output_details()"
   ]
  },
  {
   "cell_type": "code",
   "execution_count": 35,
   "metadata": {
    "id": "2_ixAf_l9hE7"
   },
   "outputs": [],
   "source": [
    "interpreter.set_tensor(input_details[0]['index'], np.array([X_test[0]]))"
   ]
  },
  {
   "cell_type": "code",
   "execution_count": 36,
   "metadata": {
    "colab": {
     "base_uri": "https://localhost:8080/"
    },
    "id": "s4FoAnuc9hE7",
    "outputId": "91f18257-8d8b-4ef3-c558-e9b5f94fabbf",
    "scrolled": true
   },
   "outputs": [
    {
     "name": "stdout",
     "output_type": "stream",
     "text": [
      "CPU times: total: 0 ns\n",
      "Wall time: 0 ns\n"
     ]
    }
   ],
   "source": [
    "%%time\n",
    "# Inference implementation\n",
    "interpreter.invoke()\n",
    "tflite_results = interpreter.get_tensor(output_details[0]['index'])"
   ]
  },
  {
   "cell_type": "code",
   "execution_count": 37,
   "metadata": {
    "colab": {
     "base_uri": "https://localhost:8080/"
    },
    "id": "vONjp19J9hE8",
    "outputId": "77205e24-fd00-42c4-f7b6-e06e527c2cba"
   },
   "outputs": [
    {
     "name": "stdout",
     "output_type": "stream",
     "text": [
      "[9.0694290e-01 9.0495739e-03 1.6328207e-06 8.2527846e-02 1.4781056e-03]\n",
      "0\n"
     ]
    }
   ],
   "source": [
    "print(np.squeeze(tflite_results))\n",
    "print(np.argmax(np.squeeze(tflite_results)))"
   ]
  }
 ],
 "metadata": {
  "accelerator": "GPU",
  "colab": {
   "collapsed_sections": [],
   "name": "keypoint_classification_EN.ipynb",
   "provenance": [],
   "toc_visible": true
  },
  "kernelspec": {
   "display_name": "Python 3 (ipykernel)",
   "language": "python",
   "name": "python3"
  },
  "language_info": {
   "codemirror_mode": {
    "name": "ipython",
    "version": 3
   },
   "file_extension": ".py",
   "mimetype": "text/x-python",
   "name": "python",
   "nbconvert_exporter": "python",
   "pygments_lexer": "ipython3",
   "version": "3.8.10"
  }
 },
 "nbformat": 4,
 "nbformat_minor": 4
}
